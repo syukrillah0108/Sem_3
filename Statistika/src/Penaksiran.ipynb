{
 "cells": [
  {
   "cell_type": "markdown",
   "metadata": {},
   "source": [
    "Nama: Syukrillah (22552011247)\n",
    "\n",
    "Kelas : TIF-RP-222PA"
   ]
  },
  {
   "cell_type": "markdown",
   "metadata": {},
   "source": [
    "# Menaksir Rataan"
   ]
  },
  {
   "cell_type": "markdown",
   "metadata": {},
   "source": [
    "`soal`\n",
    "\n",
    "Rataan nilai matematika sampel acak `36` mahasiswa tingkat sarjana adalah `2.6`. Hitunglah selang kepercayaan `99%` untuk rataan nilai matematika semua mahasiswa tingkat sarjana. Anggap simpangan baku = `0.3`"
   ]
  },
  {
   "cell_type": "markdown",
   "metadata": {},
   "source": [
    "`jawaban`\n",
    "\n",
    "HO = apakah nilai rata rata `2,6` yang diambil dari sampel dapat mewakili nilai rata rata populasi jika menggunakan selang kepercayaan `99%` ?"
   ]
  },
  {
   "cell_type": "code",
   "execution_count": 22,
   "metadata": {},
   "outputs": [],
   "source": [
    "# norm= fungsi mencari nilai distribusi\n",
    "from scipy.stats import norm\n",
    "import math"
   ]
  },
  {
   "cell_type": "code",
   "execution_count": 23,
   "metadata": {},
   "outputs": [],
   "source": [
    "n = 36\n",
    "simp_baku = 0.3\n",
    "Xbar = 2.6\n",
    "kepercayaan = 99/100\n",
    "alpha = 1 - kepercayaan"
   ]
  },
  {
   "cell_type": "code",
   "execution_count": 24,
   "metadata": {},
   "outputs": [],
   "source": [
    "Za = alpha/2\n",
    "Z = 1-Za\n",
    "percentile = float(f\"{norm.ppf(Z):.4f}\")"
   ]
  },
  {
   "cell_type": "markdown",
   "metadata": {},
   "source": [
    "$\n",
    "\\Large\n",
    "\\overline {x} - z_{\\alpha}/2 \\frac {\\sigma} {\\sqrt{n}}\n",
    "< \\mu < \\overline {x} + z_{\\alpha}/2 \\frac {\\sigma} {\\sqrt{n}}\n",
    "$"
   ]
  },
  {
   "cell_type": "code",
   "execution_count": 25,
   "metadata": {},
   "outputs": [],
   "source": [
    "val1 = Xbar - (percentile) * (simp_baku/math.sqrt(n))\n",
    "U = Xbar\n",
    "val2 = Xbar + (percentile) * (simp_baku/math.sqrt(n))"
   ]
  },
  {
   "cell_type": "code",
   "execution_count": 26,
   "metadata": {},
   "outputs": [
    {
     "name": "stdout",
     "output_type": "stream",
     "text": [
      "2.47121 < 2.6 < 2.72879\n",
      "Pernyataan dapat di terima\n"
     ]
    }
   ],
   "source": [
    "if(val1 < U < val2):\n",
    "    print(val1,\"<\", U, \"<\", val2)\n",
    "    print(\"Pernyataan dapat di terima\")\n",
    "else:\n",
    "    print(\"Pernyataan tidak dapat di terima\")"
   ]
  }
 ],
 "metadata": {
  "kernelspec": {
   "display_name": "Python 3",
   "language": "python",
   "name": "python3"
  },
  "language_info": {
   "codemirror_mode": {
    "name": "ipython",
    "version": 3
   },
   "file_extension": ".py",
   "mimetype": "text/x-python",
   "name": "python",
   "nbconvert_exporter": "python",
   "pygments_lexer": "ipython3",
   "version": "3.11.0"
  }
 },
 "nbformat": 4,
 "nbformat_minor": 2
}
