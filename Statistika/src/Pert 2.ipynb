{
 "cells": [
  {
   "cell_type": "code",
   "execution_count": 1,
   "metadata": {},
   "outputs": [],
   "source": [
    "import statistics\n",
    "import itertools"
   ]
  },
  {
   "cell_type": "markdown",
   "metadata": {},
   "source": [
    "Data yang telah diperoleh, akan dianalisis sehingga menjadi suatu informasi. Untuk\n",
    "mendapatkan suatu informasi tersebut diperlukan analisis data atau memproses data\n",
    "menjadi suatu informasi."
   ]
  },
  {
   "cell_type": "markdown",
   "metadata": {},
   "source": [
    "# Peluang pada peristiwa"
   ]
  },
  {
   "cell_type": "markdown",
   "metadata": {},
   "source": [
    "## Peluang logis"
   ]
  },
  {
   "cell_type": "markdown",
   "metadata": {},
   "source": [
    "Pada pelemparan dua buah dadu kita tahu bahwa jumlah angka dari kedua dadu yang bisa muncul adalah 2, 3, 4, 5, …, 12"
   ]
  },
  {
   "cell_type": "code",
   "execution_count": 2,
   "metadata": {},
   "outputs": [],
   "source": [
    "dadu = (1,2,3,4,5,6)"
   ]
  },
  {
   "cell_type": "code",
   "execution_count": 3,
   "metadata": {},
   "outputs": [],
   "source": [
    "lemparan = list(itertools.product(dadu, repeat=2))"
   ]
  },
  {
   "cell_type": "markdown",
   "metadata": {},
   "source": [
    "Berapa peluang unculnya 5 ?"
   ]
  },
  {
   "cell_type": "markdown",
   "metadata": {},
   "source": [
    "$$\n",
    "P(peristiwa) = \\frac {jumlah\\ cara\\ terjadinya\\ satu\\ peristiwa} {jumlah\\ cara\\ terjadinya\\ semua\\ hasil}\n",
    "$$"
   ]
  },
  {
   "cell_type": "code",
   "execution_count": 9,
   "metadata": {},
   "outputs": [
    {
     "name": "stdout",
     "output_type": "stream",
     "text": [
      "(1, 4)\n",
      "(2, 3)\n",
      "(3, 2)\n",
      "(4, 1)\n",
      "4\n"
     ]
    }
   ],
   "source": [
    "semua_lemparan = len(lemparan)\n",
    "peluang = 0\n",
    "for x in lemparan:\n",
    "    if x[0] + x[1] == 5:\n",
    "        peluang += 1\n",
    "        print(x)\n",
    "    \n",
    "print(peluang)"
   ]
  },
  {
   "cell_type": "code",
   "execution_count": 5,
   "metadata": {},
   "outputs": [
    {
     "data": {
      "text/plain": [
       "0.1111111111111111"
      ]
     },
     "execution_count": 5,
     "metadata": {},
     "output_type": "execute_result"
    }
   ],
   "source": [
    "peluang/semua_lemparan"
   ]
  },
  {
   "cell_type": "markdown",
   "metadata": {},
   "source": [
    "## Peluang Empiris"
   ]
  },
  {
   "cell_type": "markdown",
   "metadata": {},
   "source": [
    "Dalam memproduksi sebanyak 10.000 unit integrated circuit (IC) merek tertentu,\n",
    "diperoleh 25 unit diantaranya cacat (bengkok). Berdasarkan hasil ini maka dapat\n",
    "dikatakan bahwa peluang IC yang cacat adalah 25/10.000 = 0,0025. Nilai ini juga\n",
    "merupakan peluang terambilnya secara acak 1 unit IC yang cacat. Demikian pula rata-\n",
    "rata persentase barang cacat dalam suatu batch diperkirakan sebesar 0,0025. Jika ada\n",
    "pesanan sebanyak 2.000 unit IC dari perusahaan ini kita berharap 0,0025(2000) = 5 unit\n",
    "IC yang cacat."
   ]
  },
  {
   "cell_type": "markdown",
   "metadata": {},
   "source": [
    "$$\n",
    "P(A) \\frac {n(A)} {N}\n",
    "$$"
   ]
  },
  {
   "cell_type": "code",
   "execution_count": 6,
   "metadata": {},
   "outputs": [
    {
     "data": {
      "text/plain": [
       "0.0025"
      ]
     },
     "execution_count": 6,
     "metadata": {},
     "output_type": "execute_result"
    }
   ],
   "source": [
    "stok = 10000\n",
    "cacat = 25\n",
    "peluang = cacat/stok\n",
    "peluang"
   ]
  },
  {
   "cell_type": "markdown",
   "metadata": {},
   "source": [
    "`peluang ke cacatan`"
   ]
  },
  {
   "cell_type": "code",
   "execution_count": 8,
   "metadata": {},
   "outputs": [
    {
     "data": {
      "text/plain": [
       "5.0"
      ]
     },
     "execution_count": 8,
     "metadata": {},
     "output_type": "execute_result"
    }
   ],
   "source": [
    "pesanan = 2000\n",
    "peluang*pesanan"
   ]
  },
  {
   "cell_type": "code",
   "execution_count": null,
   "metadata": {},
   "outputs": [],
   "source": []
  }
 ],
 "metadata": {
  "kernelspec": {
   "display_name": "Vir",
   "language": "python",
   "name": "python3"
  },
  "language_info": {
   "codemirror_mode": {
    "name": "ipython",
    "version": 3
   },
   "file_extension": ".py",
   "mimetype": "text/x-python",
   "name": "python",
   "nbconvert_exporter": "python",
   "pygments_lexer": "ipython3",
   "version": "3.11.2"
  },
  "orig_nbformat": 4
 },
 "nbformat": 4,
 "nbformat_minor": 2
}
