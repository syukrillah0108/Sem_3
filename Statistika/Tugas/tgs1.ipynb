{
 "cells": [
  {
   "cell_type": "code",
   "execution_count": 65,
   "metadata": {},
   "outputs": [],
   "source": [
    "from statistics import log\n",
    "import numpy as np\n",
    "from prettytable import PrettyTable\n",
    "import matplotlib.pyplot as plt\n",
    "\n",
    "# Data tunggal\n",
    "data = [90, 79, 82, 82, 71, 84, 63, 70,\n",
    "        66, 62, 67, 65, 93, 75, 81, 100,\n",
    "        90, 62, 61, 88, 77, 68, 86, 79,\n",
    "        77, 96, 78, 85, 92, 62]"
   ]
  },
  {
   "cell_type": "markdown",
   "metadata": {},
   "source": [
    "#### 1. Jangkauan (J) kelas interval (K), dan Panjang kelas Interval (P)"
   ]
  },
  {
   "cell_type": "markdown",
   "metadata": {},
   "source": [
    "`Jangkauan`\n",
    "$$\n",
    "J = data\\ terbesar - data\\ terkecil\n",
    "$$"
   ]
  },
  {
   "cell_type": "code",
   "execution_count": 66,
   "metadata": {},
   "outputs": [
    {
     "name": "stdout",
     "output_type": "stream",
     "text": [
      "Jangkauan: 39\n"
     ]
    }
   ],
   "source": [
    "J = max(data) - min(data)\n",
    "print(\"Jangkauan:\", J)"
   ]
  },
  {
   "cell_type": "markdown",
   "metadata": {},
   "source": [
    "`Kelas Interval`\n",
    "$$\n",
    "K = 1+3,3 \\log(n)\n",
    "$$"
   ]
  },
  {
   "cell_type": "code",
   "execution_count": 67,
   "metadata": {},
   "outputs": [
    {
     "name": "stdout",
     "output_type": "stream",
     "text": [
      "Kelas interval: 6\n"
     ]
    }
   ],
   "source": [
    "# Dibulatkan kebawah\n",
    "K = int(\n",
    "    (1 + 3.3) * log(\n",
    "        len(data),10\n",
    "        ) #Basic log 10\n",
    ")\n",
    "print(\"Kelas interval:\",K)"
   ]
  },
  {
   "cell_type": "markdown",
   "metadata": {},
   "source": [
    "`Panjang kelas interval`\n",
    "$$\n",
    "P = \\frac {J} {K}\n",
    "$$"
   ]
  },
  {
   "cell_type": "code",
   "execution_count": 68,
   "metadata": {},
   "outputs": [
    {
     "name": "stdout",
     "output_type": "stream",
     "text": [
      "Panjang kelas: 6\n"
     ]
    }
   ],
   "source": [
    "P = round(J / K) #Dibulatkan\n",
    "print(\"Panjang kelas:\",P)"
   ]
  },
  {
   "cell_type": "markdown",
   "metadata": {},
   "source": [
    "#### 2. Rentang nilai kelas interval pertama beserta berapa frekuensinya"
   ]
  },
  {
   "cell_type": "code",
   "execution_count": 112,
   "metadata": {},
   "outputs": [],
   "source": [
    "# Menentukan jumlah kelas (bins)\n",
    "n_bins = K-1\n",
    "\n",
    "# Membuat distribusi frekuensi\n",
    "frekwensi, bats_kelas = np.histogram(data, bins=n_bins)"
   ]
  },
  {
   "cell_type": "code",
   "execution_count": 113,
   "metadata": {},
   "outputs": [
    {
     "name": "stdout",
     "output_type": "stream",
     "text": [
      "Rentang kelas pertama: 61.0 - 68.8 \n",
      "frekuensi: 9\n"
     ]
    }
   ],
   "source": [
    "print(\"Rentang kelas pertama:\",\n",
    "      f\"{bats_kelas[0]} - {bats_kelas[1]}\",\n",
    "      \"\\nfrekuensi:\",frekwensi[0]\n",
    "      )"
   ]
  },
  {
   "cell_type": "markdown",
   "metadata": {},
   "source": [
    "`tabel`"
   ]
  },
  {
   "cell_type": "code",
   "execution_count": 121,
   "metadata": {},
   "outputs": [
    {
     "name": "stdout",
     "output_type": "stream",
     "text": [
      "+----------------+-----------+\n",
      "| Kelas Interval | Frekuensi |\n",
      "+----------------+-----------+\n",
      "|  61.0 - 68.8   |     9     |\n",
      "|  68.8 - 76.6   |     3     |\n",
      "|  76.6 - 84.4   |     9     |\n",
      "|  84.4 - 92.2   |     6     |\n",
      "|  92.2 - 100.0  |     3     |\n",
      "+----------------+-----------+\n"
     ]
    }
   ],
   "source": [
    "# Membuat tabel\n",
    "table = PrettyTable()\n",
    "table.field_names = [\"Kelas Interval\", \"Frekuensi\"]\n",
    "\n",
    "bats_kelas_str = []\n",
    "\n",
    "# Mengisi tabel\n",
    "for i in range(n_bins):\n",
    "    kelas_interval = f\"{bats_kelas[i]} - {bats_kelas[i+1]}\"\n",
    "    frekuensi_kelas = frekwensi[i]\n",
    "    bats_kelas_str.append(kelas_interval)\n",
    "    table.add_row([kelas_interval, frekuensi_kelas])\n",
    "\n",
    "# Menampilkan tabel\n",
    "print(table)"
   ]
  },
  {
   "cell_type": "markdown",
   "metadata": {},
   "source": [
    "`Histogram`"
   ]
  },
  {
   "cell_type": "code",
   "execution_count": 123,
   "metadata": {},
   "outputs": [
    {
     "data": {
      "image/png": "[encoded data removed]",
      "text/plain": [
       "<Figure size 640x480 with 1 Axes>"
      ]
     },
     "metadata": {},
     "output_type": "display_data"
    }
   ],
   "source": [
    "# Membuat grafik batang distribusi frekuensi\n",
    "plt.bar(bats_kelas_str, frekwensi, width=0.5, color='skyblue')\n",
    "plt.xlabel('Kelas Interval')\n",
    "plt.ylabel('Frekuensi')\n",
    "plt.title('Distribusi Frekuensi')\n",
    "plt.grid(True)\n",
    "\n",
    "# Menampilkan grafik\n",
    "plt.show()"
   ]
  },
  {
   "cell_type": "markdown",
   "metadata": {},
   "source": [
    "#### 3. Batas kelas (batas bawah dan batas atas) interval pertama"
   ]
  },
  {
   "cell_type": "markdown",
   "metadata": {},
   "source": [
    "`Batas bawah`"
   ]
  },
  {
   "cell_type": "code",
   "execution_count": 80,
   "metadata": {},
   "outputs": [
    {
     "data": {
      "text/plain": [
       "61.0"
      ]
     },
     "execution_count": 80,
     "metadata": {},
     "output_type": "execute_result"
    }
   ],
   "source": [
    "bats_kelas[0]"
   ]
  },
  {
   "cell_type": "markdown",
   "metadata": {},
   "source": [
    "`Batas atas`"
   ]
  },
  {
   "cell_type": "code",
   "execution_count": 81,
   "metadata": {},
   "outputs": [
    {
     "data": {
      "text/plain": [
       "68.8"
      ]
     },
     "execution_count": 81,
     "metadata": {},
     "output_type": "execute_result"
    }
   ],
   "source": [
    "bats_kelas[1]"
   ]
  },
  {
   "cell_type": "markdown",
   "metadata": {},
   "source": [
    "#### 4. Tepi kelas (tepi kelas bawah dan tepi kelas atas) interval pertama"
   ]
  },
  {
   "cell_type": "code",
   "execution_count": 83,
   "metadata": {},
   "outputs": [
    {
     "name": "stdout",
     "output_type": "stream",
     "text": [
      "69.3\n"
     ]
    }
   ],
   "source": [
    "tb = bats_kelas[0] - 0.5\n",
    "ta = bats_kelas[1] + 0.5\n",
    "print(ta)"
   ]
  },
  {
   "cell_type": "markdown",
   "metadata": {},
   "source": [
    "#### 5. Hitung nilai mean berdasarkan data berkelompok"
   ]
  },
  {
   "cell_type": "code",
   "execution_count": 84,
   "metadata": {},
   "outputs": [
    {
     "data": {
      "text/plain": [
       "77.7"
      ]
     },
     "execution_count": 84,
     "metadata": {},
     "output_type": "execute_result"
    }
   ],
   "source": [
    "np.mean(data)"
   ]
  },
  {
   "cell_type": "markdown",
   "metadata": {},
   "source": [
    "#### 6. Hitung nilai modus berdasarkan data berkelompok"
   ]
  },
  {
   "cell_type": "code",
   "execution_count": 86,
   "metadata": {},
   "outputs": [
    {
     "data": {
      "text/plain": [
       "61.0"
      ]
     },
     "execution_count": 86,
     "metadata": {},
     "output_type": "execute_result"
    }
   ],
   "source": [
    "bats_kelas[np.argmax(frekwensi)]"
   ]
  },
  {
   "cell_type": "markdown",
   "metadata": {},
   "source": [
    "#### 7. Hitung nilai median berdasarkan data berkelompok"
   ]
  },
  {
   "cell_type": "code",
   "execution_count": 88,
   "metadata": {},
   "outputs": [
    {
     "data": {
      "text/plain": [
       "77.7"
      ]
     },
     "execution_count": 88,
     "metadata": {},
     "output_type": "execute_result"
    }
   ],
   "source": [
    "sorted_data = np.sort(data)\n",
    "n = len(data)\n",
    "if n % 2 == 0:\n",
    "    median = (sorted_data[n // 2 - 1] + sorted_data[n // 2]) / 2\n",
    "else:\n",
    "    median = sorted_data[n // 2]\n",
    "\n",
    "mean"
   ]
  },
  {
   "cell_type": "code",
   "execution_count": 89,
   "metadata": {},
   "outputs": [
    {
     "data": {
      "text/plain": [
       "array([ 61,  62,  62,  62,  63,  65,  66,  67,  68,  70,  71,  75,  77,\n",
       "        77,  78,  79,  79,  81,  82,  82,  84,  85,  86,  88,  90,  90,\n",
       "        92,  93,  96, 100])"
      ]
     },
     "execution_count": 89,
     "metadata": {},
     "output_type": "execute_result"
    }
   ],
   "source": [
    "sorted_data"
   ]
  },
  {
   "cell_type": "markdown",
   "metadata": {},
   "source": [
    "#### 8. Hitung nilai quartile berdasarkan data berkelompok"
   ]
  },
  {
   "cell_type": "code",
   "execution_count": 90,
   "metadata": {},
   "outputs": [],
   "source": [
    "quartiles = np.percentile(data, [25, 50, 75])"
   ]
  },
  {
   "cell_type": "code",
   "execution_count": 91,
   "metadata": {},
   "outputs": [
    {
     "data": {
      "text/plain": [
       "array([67.25, 78.5 , 85.75])"
      ]
     },
     "execution_count": 91,
     "metadata": {},
     "output_type": "execute_result"
    }
   ],
   "source": [
    "quartiles"
   ]
  },
  {
   "cell_type": "markdown",
   "metadata": {},
   "source": [
    "#### 9. Hitung nilai variansi berdasarkan data berkelompok"
   ]
  },
  {
   "cell_type": "code",
   "execution_count": 93,
   "metadata": {},
   "outputs": [
    {
     "data": {
      "text/plain": [
       "124.87666666666665"
      ]
     },
     "execution_count": 93,
     "metadata": {},
     "output_type": "execute_result"
    }
   ],
   "source": [
    "variansi = np.var(data)\n",
    "variansi"
   ]
  },
  {
   "cell_type": "markdown",
   "metadata": {},
   "source": [
    "#### 10. Hitung nilai standar deviasi berdasarkan data berkelompok"
   ]
  },
  {
   "cell_type": "code",
   "execution_count": 95,
   "metadata": {},
   "outputs": [
    {
     "data": {
      "text/plain": [
       "11.174822891959705"
      ]
     },
     "execution_count": 95,
     "metadata": {},
     "output_type": "execute_result"
    }
   ],
   "source": [
    "std_deviasi = np.std(data)\n",
    "std_deviasi"
   ]
  }
 ],
 "metadata": {
  "kernelspec": {
   "display_name": "Vir",
   "language": "python",
   "name": "python3"
  },
  "language_info": {
   "codemirror_mode": {
    "name": "ipython",
    "version": 3
   },
   "file_extension": ".py",
   "mimetype": "text/x-python",
   "name": "python",
   "nbconvert_exporter": "python",
   "pygments_lexer": "ipython3",
   "version": "3.11.2"
  }
 },
 "nbformat": 4,
 "nbformat_minor": 2
}
