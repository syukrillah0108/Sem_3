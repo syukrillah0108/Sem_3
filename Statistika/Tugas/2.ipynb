{
 "cells": [
  {
   "cell_type": "markdown",
   "metadata": {},
   "source": [
    "Nama : Syukrillah\n",
    "\n",
    "Kelas : TIF RP 222PA"
   ]
  },
  {
   "cell_type": "code",
   "execution_count": 42,
   "metadata": {},
   "outputs": [],
   "source": [
    "import numpy as np\n",
    "import pandas as pd\n",
    "import scipy.stats as stats\n",
    "import scipy.integrate as spi\n",
    "import math"
   ]
  },
  {
   "cell_type": "markdown",
   "metadata": {},
   "source": [
    "## Statistika Dasar"
   ]
  },
  {
   "cell_type": "code",
   "execution_count": 43,
   "metadata": {},
   "outputs": [],
   "source": [
    "# Data\n",
    "data = {\n",
    "    'Tinggi badan (cm)': ['150 - 154', '155 - 159',\n",
    "                          '160 - 164', '165 - 169',\n",
    "                          '170 - 174', '175 - 179',\n",
    "                          '180 - 184', '185 - 189'],\n",
    "    'fi': [2, 6, 11, 12, 7, 4, 2, 1]\n",
    "}\n",
    "\n",
    "df = pd.DataFrame(data)"
   ]
  },
  {
   "cell_type": "code",
   "execution_count": 44,
   "metadata": {},
   "outputs": [
    {
     "data": {
      "text/html": [
       "<div>\n",
       "<style scoped>\n",
       "    .dataframe tbody tr th:only-of-type {\n",
       "        vertical-align: middle;\n",
       "    }\n",
       "\n",
       "    .dataframe tbody tr th {\n",
       "        vertical-align: top;\n",
       "    }\n",
       "\n",
       "    .dataframe thead th {\n",
       "        text-align: right;\n",
       "    }\n",
       "</style>\n",
       "<table border=\"1\" class=\"dataframe\">\n",
       "  <thead>\n",
       "    <tr style=\"text-align: right;\">\n",
       "      <th></th>\n",
       "      <th>Tinggi badan (cm)</th>\n",
       "      <th>fi</th>\n",
       "    </tr>\n",
       "  </thead>\n",
       "  <tbody>\n",
       "    <tr>\n",
       "      <th>0</th>\n",
       "      <td>150 - 154</td>\n",
       "      <td>2</td>\n",
       "    </tr>\n",
       "    <tr>\n",
       "      <th>1</th>\n",
       "      <td>155 - 159</td>\n",
       "      <td>6</td>\n",
       "    </tr>\n",
       "    <tr>\n",
       "      <th>2</th>\n",
       "      <td>160 - 164</td>\n",
       "      <td>11</td>\n",
       "    </tr>\n",
       "    <tr>\n",
       "      <th>3</th>\n",
       "      <td>165 - 169</td>\n",
       "      <td>12</td>\n",
       "    </tr>\n",
       "    <tr>\n",
       "      <th>4</th>\n",
       "      <td>170 - 174</td>\n",
       "      <td>7</td>\n",
       "    </tr>\n",
       "    <tr>\n",
       "      <th>5</th>\n",
       "      <td>175 - 179</td>\n",
       "      <td>4</td>\n",
       "    </tr>\n",
       "    <tr>\n",
       "      <th>6</th>\n",
       "      <td>180 - 184</td>\n",
       "      <td>2</td>\n",
       "    </tr>\n",
       "    <tr>\n",
       "      <th>7</th>\n",
       "      <td>185 - 189</td>\n",
       "      <td>1</td>\n",
       "    </tr>\n",
       "  </tbody>\n",
       "</table>\n",
       "</div>"
      ],
      "text/plain": [
       "  Tinggi badan (cm)  fi\n",
       "0         150 - 154   2\n",
       "1         155 - 159   6\n",
       "2         160 - 164  11\n",
       "3         165 - 169  12\n",
       "4         170 - 174   7\n",
       "5         175 - 179   4\n",
       "6         180 - 184   2\n",
       "7         185 - 189   1"
      ]
     },
     "execution_count": 44,
     "metadata": {},
     "output_type": "execute_result"
    }
   ],
   "source": [
    "df"
   ]
  },
  {
   "cell_type": "markdown",
   "metadata": {},
   "source": [
    "### Problem solve"
   ]
  },
  {
   "cell_type": "code",
   "execution_count": 45,
   "metadata": {},
   "outputs": [],
   "source": [
    "# Menghitung tepi atas dan tepi bawah kelas interval ke-4\n",
    "interval = df['Tinggi badan (cm)'][3].split(' - ')\n",
    "tepi_bawah = int(interval[0])\n",
    "tepi_atas = int(interval[1])\n",
    "\n",
    "# Menghitung mean\n",
    "df['mid'] = df['Tinggi badan (cm)'].apply(\n",
    "    lambda x: np.mean([int(i) for i in x.split(' - ')]))\n",
    "df['fx'] = df['fi'] * df['mid']\n",
    "mean = df['fx'].sum() / df['fi'].sum()\n",
    "\n",
    "# Menghitung modus\n",
    "df['f_prev'] = df['fi'].shift(1, fill_value=0)\n",
    "df['f_next'] = df['fi'].shift(-1, fill_value=0)\n",
    "mode_row = df[(df['fi'] > df['f_prev']) & (df['fi'] > df['f_next'])]\n",
    "L1 = mode_row['mid'].values[0] - (\n",
    "    mode_row['mid'].values[0] - df.loc[mode_row.index[0]-1, 'mid']) / 2\n",
    "L2 = mode_row['mid'].values[0] + (\n",
    "    df.loc[mode_row.index[0]+1, 'mid'] - mode_row['mid'].values[0]) / 2\n",
    "mode = L1 + ((mode_row['fi'].values[0] - mode_row['f_prev'].values[0]) / (\n",
    "    (mode_row['fi'].values[0] - mode_row['f_prev'].values[0]) + (\n",
    "        mode_row['fi'].values[0] - mode_row['f_next'].values[0]))) * (L2 - L1)\n",
    "\n",
    "# Menghitung Q2 (median)\n",
    "n = df['fi'].sum()\n",
    "F = df['fi'].cumsum()\n",
    "Q2_row = df[F >= n/2].iloc[0]\n",
    "L1 = Q2_row['mid'] - (Q2_row['mid'] - df.loc[Q2_row.name-1, 'mid']) / 2\n",
    "L2 = Q2_row['mid'] + (df.loc[Q2_row.name+1, 'mid'] - Q2_row['mid']) / 2\n",
    "Q2 = L1 + ((n/2 - F[F < n/2].max()) / Q2_row['fi']) * (L2 - L1)\n",
    "\n",
    "# Menghitung variansi dan standar deviasi\n",
    "df['fx_squared'] = df['fi'] * df['mid']**2\n",
    "variance = df['fx_squared'].sum()/df['fi'].sum() - mean**2\n",
    "std_dev = np.sqrt(variance)"
   ]
  },
  {
   "cell_type": "markdown",
   "metadata": {},
   "source": [
    "1. Tepi atas dan Tepi bawah kelas interval 4"
   ]
  },
  {
   "cell_type": "markdown",
   "metadata": {},
   "source": [
    "`Tepi atas`<br>\n",
    "$Ta = Ba \\ + \\ Ketelitian \\ data$"
   ]
  },
  {
   "cell_type": "code",
   "execution_count": 46,
   "metadata": {},
   "outputs": [
    {
     "data": {
      "text/plain": [
       "169"
      ]
     },
     "execution_count": 46,
     "metadata": {},
     "output_type": "execute_result"
    }
   ],
   "source": [
    "tepi_atas"
   ]
  },
  {
   "cell_type": "markdown",
   "metadata": {},
   "source": [
    "`Tepi bawah`<br>\n",
    "$Tb = Bb \\ - \\ Ketelitian \\ data$"
   ]
  },
  {
   "cell_type": "code",
   "execution_count": 47,
   "metadata": {},
   "outputs": [
    {
     "data": {
      "text/plain": [
       "165"
      ]
     },
     "execution_count": 47,
     "metadata": {},
     "output_type": "execute_result"
    }
   ],
   "source": [
    "tepi_bawah"
   ]
  },
  {
   "cell_type": "markdown",
   "metadata": {},
   "source": [
    "2. Mean\n"
   ]
  },
  {
   "cell_type": "markdown",
   "metadata": {},
   "source": [
    "$\n",
    "\\LARGE\n",
    "\\overline{x} = \\frac {\\Sigma f_i x_i} {\\Sigma f_i}\n",
    "$\n",
    "\n",
    "$f_i = $ frekwensi kelas ke i<br>\n",
    "$x_i = $ nilai tengah kelas ke i"
   ]
  },
  {
   "cell_type": "code",
   "execution_count": 48,
   "metadata": {},
   "outputs": [
    {
     "data": {
      "text/plain": [
       "166.55555555555554"
      ]
     },
     "execution_count": 48,
     "metadata": {},
     "output_type": "execute_result"
    }
   ],
   "source": [
    "mean"
   ]
  },
  {
   "cell_type": "markdown",
   "metadata": {},
   "source": [
    "3. Modus"
   ]
  },
  {
   "cell_type": "markdown",
   "metadata": {},
   "source": [
    "$$\n",
    "M_o = Tb_{mo} + \\left (\\frac {d_1} {d_1 + d_2}\\right)p\n",
    "$$\n",
    "$Tb_{mo} = $ Tepi bawah kelas modus\n",
    "\n",
    "$d_1 = $ Selisih frekuensi kelas modus dengan kelas sebelumnya\n",
    "\n",
    "$d_2 = $ Selisih frekuensi kelas modus dengan kelas sesudahnya\n",
    "\n",
    "$p = $ panjang kelas"
   ]
  },
  {
   "cell_type": "code",
   "execution_count": 49,
   "metadata": {},
   "outputs": [
    {
     "data": {
      "text/plain": [
       "165.33333333333334"
      ]
     },
     "execution_count": 49,
     "metadata": {},
     "output_type": "execute_result"
    }
   ],
   "source": [
    "mode"
   ]
  },
  {
   "cell_type": "markdown",
   "metadata": {},
   "source": [
    "4. Q2"
   ]
  },
  {
   "cell_type": "code",
   "execution_count": 50,
   "metadata": {},
   "outputs": [
    {
     "data": {
      "text/plain": [
       "165.95833333333334"
      ]
     },
     "execution_count": 50,
     "metadata": {},
     "output_type": "execute_result"
    }
   ],
   "source": [
    "Q2"
   ]
  },
  {
   "cell_type": "markdown",
   "metadata": {},
   "source": [
    "5. Variansi"
   ]
  },
  {
   "cell_type": "code",
   "execution_count": 51,
   "metadata": {},
   "outputs": [
    {
     "data": {
      "text/plain": [
       "60.91358024691726"
      ]
     },
     "execution_count": 51,
     "metadata": {},
     "output_type": "execute_result"
    }
   ],
   "source": [
    "variance"
   ]
  },
  {
   "cell_type": "markdown",
   "metadata": {},
   "source": [
    "6. Standar deviasi"
   ]
  },
  {
   "cell_type": "code",
   "execution_count": 52,
   "metadata": {},
   "outputs": [
    {
     "data": {
      "text/plain": [
       "7.804715257260655"
      ]
     },
     "execution_count": 52,
     "metadata": {},
     "output_type": "execute_result"
    }
   ],
   "source": [
    "std_dev"
   ]
  },
  {
   "cell_type": "markdown",
   "metadata": {},
   "source": [
    "## Ruang Sampel"
   ]
  },
  {
   "cell_type": "markdown",
   "metadata": {},
   "source": [
    "1. Dari 7 orang calon pengurus kelas akan dipilih 3 orang untuk menjadi ketua, sekretaris dan bendahara, berapa banyaknya seluruh susunan yang mungkin? "
   ]
  },
  {
   "cell_type": "code",
   "execution_count": 53,
   "metadata": {},
   "outputs": [
    {
     "name": "stdout",
     "output_type": "stream",
     "text": [
      "Jumlah susunan yang mungkin adalah: 210\n"
     ]
    }
   ],
   "source": [
    "n = 7  # Jumlah total calon\n",
    "r = 3  # Jumlah posisi yang akan dipilih\n",
    "\n",
    "# Menghitung permutasi\n",
    "permutations = math.perm(n, r)\n",
    "\n",
    "print(f\"Jumlah susunan yang mungkin adalah: {permutations}\")"
   ]
  },
  {
   "cell_type": "markdown",
   "metadata": {},
   "source": [
    "2. Dari suatu perusahaan, terdiri dari lima department. Setiap department mendelegasikan karyawannya untuk ikut berpartisipasi dalam seminar di luar negeri. Terdapat 3 delegasi dari department A, 2 delegasi dari department B, 4 delegasi dari department C, 3 delegasi department D, dan 2 delegasi department E. dari setiap delegasi department tersebut hanya terdapat 5 tiket pesawat untuk keberangkatan ke luar negeri. Berapa banyaknya susunan delegasi yang mungkin terjadi? "
   ]
  },
  {
   "cell_type": "code",
   "execution_count": 54,
   "metadata": {},
   "outputs": [
    {
     "name": "stdout",
     "output_type": "stream",
     "text": [
      "Jumlah susunan delegasi yang mungkin adalah: 2002\n"
     ]
    }
   ],
   "source": [
    "n = 14  # Jumlah total delegasi\n",
    "r = 5   # Jumlah tiket pesawat yang tersedia\n",
    "\n",
    "# Menghitung kombinasi\n",
    "combinations = math.comb(n, r)\n",
    "\n",
    "print(f\"Jumlah susunan delegasi yang mungkin adalah: {combinations}\")"
   ]
  },
  {
   "cell_type": "markdown",
   "metadata": {},
   "source": [
    "## Peristiwa / Kejadian"
   ]
  },
  {
   "cell_type": "code",
   "execution_count": 55,
   "metadata": {},
   "outputs": [],
   "source": [
    "# Peluang munculnya angka ganjil atau genap\n",
    "total_kemungkinan = 6\n",
    "jumlah_ganjil = 3\n",
    "jumlah_genap = 3\n",
    "\n",
    "peluang_ganjil_atau_genap = (jumlah_ganjil + jumlah_genap) / total_kemungkinan\n",
    "\n",
    "# Peluang munculnya angka ganjil dan genap\n",
    "# Karena satu kali lemparan dadu hanya menghasilkan satu angka, \n",
    "# maka tidak mungkin untuk mendapatkan angka ganjil dan genap sekaligus.\n",
    "peluang_ganjil_dan_genap = 0\n",
    "\n",
    "# Peluang munculnya angka prima dengan syarat munculnya angka ganjil terlebih dahulu\n",
    "jumlah_prima = 3\n",
    "jumlah_prima_ganjil = 2\n",
    "\n",
    "peluang_prima_jika_ganjil = jumlah_prima_ganjil / jumlah_prima\n"
   ]
  },
  {
   "cell_type": "markdown",
   "metadata": {},
   "source": [
    "Satu buah dadu dilemparkan dua kali hitunglah :"
   ]
  },
  {
   "cell_type": "markdown",
   "metadata": {},
   "source": [
    "1. Peluang munculnya angka ganjil atau genap "
   ]
  },
  {
   "cell_type": "code",
   "execution_count": 56,
   "metadata": {},
   "outputs": [
    {
     "data": {
      "text/plain": [
       "1.0"
      ]
     },
     "execution_count": 56,
     "metadata": {},
     "output_type": "execute_result"
    }
   ],
   "source": [
    "peluang_ganjil_atau_genap"
   ]
  },
  {
   "cell_type": "markdown",
   "metadata": {},
   "source": [
    "2. Peluang munculnya angka ganjil dan genap"
   ]
  },
  {
   "cell_type": "code",
   "execution_count": 57,
   "metadata": {},
   "outputs": [
    {
     "data": {
      "text/plain": [
       "0"
      ]
     },
     "execution_count": 57,
     "metadata": {},
     "output_type": "execute_result"
    }
   ],
   "source": [
    "peluang_ganjil_dan_genap"
   ]
  },
  {
   "cell_type": "markdown",
   "metadata": {},
   "source": [
    "3. Peluang munculnya angka prima dengan syarat munculnya angka ganjil terlebih dahulu "
   ]
  },
  {
   "cell_type": "code",
   "execution_count": 58,
   "metadata": {},
   "outputs": [
    {
     "data": {
      "text/plain": [
       "0.6666666666666666"
      ]
     },
     "execution_count": 58,
     "metadata": {},
     "output_type": "execute_result"
    }
   ],
   "source": [
    "peluang_prima_jika_ganjil"
   ]
  },
  {
   "cell_type": "markdown",
   "metadata": {},
   "source": [
    "## Peubah acak dan distribusi peluang"
   ]
  },
  {
   "cell_type": "markdown",
   "metadata": {},
   "source": [
    "1. Dari dua lusin snack ringan berhadiah, terdapat 3 snack yang didalamnya berhadiah umroh, pak haji mengincar hadiah umroh tersebut, namun uang pak haji hanya mampu membeli 5 snack ringan berhadiah tersebut, dicabutlah snack ringan tersebut secara acak dari gantungan toko, cari peluang pak haji mendapatkan 2 snack berhadiah.  "
   ]
  },
  {
   "cell_type": "code",
   "execution_count": 59,
   "metadata": {},
   "outputs": [
    {
     "name": "stdout",
     "output_type": "stream",
     "text": [
      "Peluang Pak Haji mendapatkan 2 snack berhadiah adalah: 0.09387351778656126\n"
     ]
    }
   ],
   "source": [
    "# Jumlah total snack\n",
    "n = 24\n",
    "\n",
    "# Jumlah snack berhadiah\n",
    "m = 3\n",
    "\n",
    "# Jumlah snack yang dibeli Pak Haji\n",
    "k = 5\n",
    "\n",
    "# Jumlah snack berhadiah yang diinginkan\n",
    "r = 2\n",
    "\n",
    "# Menghitung kombinasi\n",
    "comb_snack_berhadiah = math.comb(m, r)\n",
    "comb_snack_tidak_berhadiah = math.comb(n - m, k - r)\n",
    "comb_total = math.comb(n, k)\n",
    "\n",
    "# Menghitung peluang\n",
    "peluang = (comb_snack_berhadiah * comb_snack_tidak_berhadiah) / comb_total\n",
    "\n",
    "print(f\"Peluang Pak Haji mendapatkan 2 snack berhadiah adalah: {peluang}\")"
   ]
  },
  {
   "cell_type": "markdown",
   "metadata": {},
   "source": [
    "2. Marc Marquez jatuh di tikungan ke-10 circuit mandalika, setelah melihat tayangan video replay, maka tim honda hanya memastikan bahwa marc terjatuh pada kecepatan antara 100 km/jam hingga 150 km/jam, tim honda ingin mengetahui peluang terpelesetnya ban yang dia gunakan pada saat kecepatan diatas 120 km/jam, Jika kepekatan atau masa peluangnya adalah $f(x) = \\frac {1}{550} x^2$"
   ]
  },
  {
   "cell_type": "code",
   "execution_count": 60,
   "metadata": {},
   "outputs": [
    {
     "name": "stdout",
     "output_type": "stream",
     "text": [
      "Peluang terpelesetnya ban pada saat kecepatan di atas 120 km/jam adalah: 998.1818181818182\n"
     ]
    }
   ],
   "source": [
    "# Fungsi kepadatan peluang\n",
    "f = lambda x: (1/550) * x**2\n",
    "\n",
    "# Batas bawah dan atas\n",
    "a = 120\n",
    "b = 150\n",
    "\n",
    "# Menghitung integral\n",
    "peluang, error = spi.quad(f, a, b)\n",
    "\n",
    "print(f\"Peluang terpelesetnya ban pada saat kecepatan di atas 120 km/jam adalah: {peluang}\")"
   ]
  },
  {
   "cell_type": "markdown",
   "metadata": {},
   "source": [
    "3. Tentukan peluang pada kelas interval 1, 2, dan 3\n",
    "\n",
    "| Tinggi badan (cm) | fi |\n",
    "| ----------------- | -- |\n",
    "| 150 - 154         | 2  |\n",
    "| 155 - 159         | 6  |\n",
    "| 160 - 164         | 11 |\n",
    "| 165 - 169         | 12 |\n",
    "| 170 - 174         | 7  |\n",
    "| 175 - 179         | 4  |\n",
    "| 180 - 184         | 2  |\n",
    "| 185 - 189         | 1  |"
   ]
  },
  {
   "cell_type": "code",
   "execution_count": 61,
   "metadata": {},
   "outputs": [
    {
     "name": "stdout",
     "output_type": "stream",
     "text": [
      "Peluang pada kelas interval 1: 0.044444444444444446\n",
      "Peluang pada kelas interval 2: 0.13333333333333333\n",
      "Peluang pada kelas interval 3: 0.24444444444444444\n"
     ]
    }
   ],
   "source": [
    "# Data frekuensi\n",
    "fi = [2, 6, 11, 12, 7, 4, 2, 1]\n",
    "\n",
    "# Menghitung jumlah total individu\n",
    "total_individu = sum(fi)\n",
    "\n",
    "# Menghitung peluang pada kelas interval 1, 2, dan 3\n",
    "peluang_1 = fi[0] / total_individu\n",
    "peluang_2 = fi[1] / total_individu\n",
    "peluang_3 = fi[2] / total_individu\n",
    "\n",
    "print(f\"Peluang pada kelas interval 1: {peluang_1}\")\n",
    "print(f\"Peluang pada kelas interval 2: {peluang_2}\")\n",
    "print(f\"Peluang pada kelas interval 3: {peluang_3}\")"
   ]
  }
 ],
 "metadata": {
  "kernelspec": {
   "display_name": "Vir",
   "language": "python",
   "name": "python3"
  },
  "language_info": {
   "codemirror_mode": {
    "name": "ipython",
    "version": 3
   },
   "file_extension": ".py",
   "mimetype": "text/x-python",
   "name": "python",
   "nbconvert_exporter": "python",
   "pygments_lexer": "ipython3",
   "version": "3.11.2"
  }
 },
 "nbformat": 4,
 "nbformat_minor": 2
}
