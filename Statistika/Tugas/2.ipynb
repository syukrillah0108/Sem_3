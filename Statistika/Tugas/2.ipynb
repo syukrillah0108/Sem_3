{
 "cells": [
  {
   "cell_type": "markdown",
   "metadata": {},
   "source": [
    "## Statistika Dasar"
   ]
  },
  {
   "cell_type": "markdown",
   "metadata": {},
   "source": [
    "| Tinggi badan (cm) | fi |\n",
    "| ----------------- | -- |\n",
    "| 150 - 154         | 2  |\n",
    "| 155 - 159         | 6  |\n",
    "| 160 - 164         | 11 |\n",
    "| 165 - 169         | 12 |\n",
    "| 170 - 174         | 7  |\n",
    "| 175 - 179         | 4  |\n",
    "| 180 - 184         | 2  |\n",
    "| 185 - 189         | 1  |"
   ]
  },
  {
   "cell_type": "code",
   "execution_count": 4,
   "metadata": {},
   "outputs": [],
   "source": [
    "data = [\n",
    "    ((150,154), 2),\n",
    "    ((155,159), 6),\n",
    "    ((160,164), 11),\n",
    "    ((165,169), 12),\n",
    "    ((170,174), 7),\n",
    "    ((175,179), 4),\n",
    "    ((180,184), 2),\n",
    "    ((185,189), 1)\n",
    "]"
   ]
  },
  {
   "cell_type": "markdown",
   "metadata": {},
   "source": [
    "1. Tepi atas dan Tepi bawah kelas interval 4"
   ]
  },
  {
   "cell_type": "markdown",
   "metadata": {},
   "source": [
    "`Tepi atas`<br>\n",
    "$Ta = Ba \\ + \\ Ketelitian \\ data$"
   ]
  },
  {
   "cell_type": "code",
   "execution_count": 8,
   "metadata": {},
   "outputs": [
    {
     "data": {
      "text/plain": [
       "169.5"
      ]
     },
     "execution_count": 8,
     "metadata": {},
     "output_type": "execute_result"
    }
   ],
   "source": [
    "#index 3: interval 4\n",
    "data[3][0][1] + 0.5"
   ]
  },
  {
   "cell_type": "markdown",
   "metadata": {},
   "source": [
    "`Tepi bawah`<br>\n",
    "$Tb = Bb \\ - \\ Ketelitian \\ data$"
   ]
  },
  {
   "cell_type": "code",
   "execution_count": 9,
   "metadata": {},
   "outputs": [
    {
     "data": {
      "text/plain": [
       "164.5"
      ]
     },
     "execution_count": 9,
     "metadata": {},
     "output_type": "execute_result"
    }
   ],
   "source": [
    "#index 3: interval 4\n",
    "data[3][0][0] - 0.5"
   ]
  },
  {
   "cell_type": "markdown",
   "metadata": {},
   "source": [
    "2. Mean\n"
   ]
  },
  {
   "cell_type": "markdown",
   "metadata": {},
   "source": [
    "$\n",
    "\\LARGE\n",
    "\\overline{x} = \\frac {\\Sigma f_i x_i} {\\Sigma f_i}\n",
    "$\n",
    "\n",
    "$f_i = $ frekwensi kelas ke i<br>\n",
    "$x_i = $ nilai tengah kelas ke i"
   ]
  },
  {
   "cell_type": "code",
   "execution_count": 36,
   "metadata": {},
   "outputs": [],
   "source": [
    "xi = []\n",
    "fi_xi = []\n",
    "\n",
    "for x in data:\n",
    "    xi.append(\n",
    "        (x[0][0] + x[0][1])//2\n",
    "    )\n",
    "    fi_xi.append(\n",
    "        xi[-1] * x[1]\n",
    "    )\n",
    "\n",
    "x = sum(fi_xi) / sum([x[1] for x in data])"
   ]
  },
  {
   "cell_type": "markdown",
   "metadata": {},
   "source": [
    "3. Modus"
   ]
  },
  {
   "cell_type": "markdown",
   "metadata": {},
   "source": [
    "4. Q2"
   ]
  },
  {
   "cell_type": "markdown",
   "metadata": {},
   "source": [
    "5. Variansi"
   ]
  },
  {
   "cell_type": "markdown",
   "metadata": {},
   "source": [
    "6. Standar deviasi"
   ]
  },
  {
   "cell_type": "markdown",
   "metadata": {},
   "source": [
    "## Ruang Sampel"
   ]
  },
  {
   "cell_type": "markdown",
   "metadata": {},
   "source": [
    "1. Dari 7 orang calon pengurus kelas akan dipilih 3 orang untuk menjadi ketua, sekretaris dan bendahara, berapa banyaknya seluruh susunan yang mungkin? "
   ]
  },
  {
   "cell_type": "markdown",
   "metadata": {},
   "source": [
    "2. Dari suatu perusahaan, terdiri dari lima department. Setiap department mendelegasikan karyawannya untuk ikut berpartisipasi dalam seminar di luar negeri. Terdapat 3 delegasi dari department A, 2 delegasi dari department B, 4 delegasi dari department C, 3 delegasi department D, dan 2 delegasi department E. dari setiap delegasi department tersebut hanya terdapat 5 tiket pesawat untuk keberangkatan ke luar negeri. Berapa banyaknya susunan delegasi yang mungkin terjadi? "
   ]
  },
  {
   "cell_type": "markdown",
   "metadata": {},
   "source": [
    "## Peristiwa / Kejadian"
   ]
  },
  {
   "cell_type": "markdown",
   "metadata": {},
   "source": [
    "Satu buah dadu dilemparkan dua kali hitunglah :"
   ]
  },
  {
   "cell_type": "markdown",
   "metadata": {},
   "source": [
    "1. Peluang munculnya angka ganjil atau genap "
   ]
  },
  {
   "cell_type": "markdown",
   "metadata": {},
   "source": [
    "2. Peluang munculnya angka ganjil dan genap"
   ]
  },
  {
   "cell_type": "markdown",
   "metadata": {},
   "source": [
    "3. Peluang munculnya angka prima dengan syarat munculnya angka ganjil terlebih dahulu "
   ]
  },
  {
   "cell_type": "markdown",
   "metadata": {},
   "source": [
    "## Peubah acak dan distribusi peluang"
   ]
  },
  {
   "cell_type": "markdown",
   "metadata": {},
   "source": [
    "1. Dari dua lusin snack ringan berhadiah, terdapat 3 snack yang didalamnya berhadiah umroh, pak haji mengincar hadiah umroh tersebut, namun uang pak haji hanya mampu membeli 5 snack ringan berhadiah tersebut, dicabutlah snack ringan tersebut secara acak dari gantungan toko, cari peluang pak haji mendapatkan 2 snack berhadiah.  "
   ]
  },
  {
   "cell_type": "markdown",
   "metadata": {},
   "source": [
    "2. Marc Marquez jatuh di tikungan ke-10 circuit mandalika, setelah melihat tayangan video replay, maka tim honda hanya memastikan bahwa marc terjatuh pada kecepatan antara 100 km/jam hingga 150 km/jam, tim honda ingin mengetahui peluang terpelesetnya ban yang dia gunakan pada saat kecepatan diatas 120 km/jam, Jika kepekatan atau masa peluangnya adalah $f(x) = \\frac {1}{550} x^2$"
   ]
  },
  {
   "cell_type": "markdown",
   "metadata": {},
   "source": [
    "3. Tentukan peluang pada kelas interval 1, 2, dan 3\n",
    "\n",
    "| Tinggi badan (cm) | fi |\n",
    "| ----------------- | -- |\n",
    "| 150 - 154         | 2  |\n",
    "| 155 - 159         | 6  |\n",
    "| 160 - 164         | 11 |\n",
    "| 165 - 169         | 12 |\n",
    "| 170 - 174         | 7  |\n",
    "| 175 - 179         | 4  |\n",
    "| 180 - 184         | 2  |\n",
    "| 185 - 189         | 1  |"
   ]
  },
  {
   "cell_type": "code",
   "execution_count": null,
   "metadata": {},
   "outputs": [],
   "source": []
  }
 ],
 "metadata": {
  "kernelspec": {
   "display_name": "Vir",
   "language": "python",
   "name": "python3"
  },
  "language_info": {
   "codemirror_mode": {
    "name": "ipython",
    "version": 3
   },
   "file_extension": ".py",
   "mimetype": "text/x-python",
   "name": "python",
   "nbconvert_exporter": "python",
   "pygments_lexer": "ipython3",
   "version": "3.11.2"
  }
 },
 "nbformat": 4,
 "nbformat_minor": 2
}
