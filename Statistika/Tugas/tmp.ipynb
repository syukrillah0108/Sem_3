{
 "cells": [
  {
   "cell_type": "code",
   "execution_count": 1,
   "metadata": {},
   "outputs": [],
   "source": [
    "# Mengimpor modul numpy dan matplotlib\n",
    "import numpy as np\n",
    "import matplotlib.pyplot as plt"
   ]
  },
  {
   "cell_type": "code",
   "execution_count": 7,
   "metadata": {},
   "outputs": [],
   "source": [
    "# Membuat array numpy dari data tunggal\n",
    "data = np.array([90, 79, 82, 82, 71, 84, 63, 70, 66, 62, 67, 65, 93, 75, 81, 100, 90, 62, 61, 88, 77, 68, 86, 79, 77, 96, 78, 85, 92, 62])"
   ]
  },
  {
   "cell_type": "code",
   "execution_count": 8,
   "metadata": {},
   "outputs": [],
   "source": [
    "# Membuat tabel distribusi frekuensi dengan menggunakan fungsi np.histogram\n",
    "frekuensi, tepi_kelas = np.histogram(data, bins=5)\n",
    "nilai = (tepi_kelas[:-1] + tepi_kelas[1:]) / 2 # titik tengah kelas"
   ]
  },
  {
   "cell_type": "code",
   "execution_count": 9,
   "metadata": {},
   "outputs": [
    {
     "name": "stdout",
     "output_type": "stream",
     "text": [
      "Tabel Distribusi Frekuensi\n",
      "Nilai\tFrekuensi\n",
      "64.9\t9\n",
      "72.7\t3\n",
      "80.5\t9\n",
      "88.3\t6\n",
      "96.1\t3\n"
     ]
    }
   ],
   "source": [
    "# Mencetak tabel distribusi frekuensi\n",
    "print(\"Tabel Distribusi Frekuensi\")\n",
    "print(\"Nilai\\tFrekuensi\")\n",
    "for i in range(len(nilai)):\n",
    "    print(f\"{nilai[i]:.1f}\\t{frekuensi[i]}\")"
   ]
  },
  {
   "cell_type": "code",
   "execution_count": 6,
   "metadata": {},
   "outputs": [
    {
     "data": {
      "text/plain": [
       "array([64.9, 72.7, 80.5, 88.3, 96.1])"
      ]
     },
     "execution_count": 6,
     "metadata": {},
     "output_type": "execute_result"
    }
   ],
   "source": [
    "nilai"
   ]
  }
 ],
 "metadata": {
  "kernelspec": {
   "display_name": "Vir",
   "language": "python",
   "name": "python3"
  },
  "language_info": {
   "codemirror_mode": {
    "name": "ipython",
    "version": 3
   },
   "file_extension": ".py",
   "mimetype": "text/x-python",
   "name": "python",
   "nbconvert_exporter": "python",
   "pygments_lexer": "ipython3",
   "version": "3.11.2"
  }
 },
 "nbformat": 4,
 "nbformat_minor": 2
}
