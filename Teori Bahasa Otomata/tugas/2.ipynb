{
 "cells": [
  {
   "cell_type": "markdown",
   "metadata": {},
   "source": [
    "**Nama : Syukrillah** <br>\n",
    "**NIM : 22552011247** <br>\n",
    "**Kelas : TIF RP 222PA**\n",
    "\n",
    "1. $(q_2, q_6)$ **indistinguishable**\n",
    "\n",
    "   $\\delta$ $(q_2, 1) = q_4$<br>\n",
    "   $\\delta$ $(q_6, 1) = q_4$<br>\n",
    "   $\\delta$ $(q_2, 0) = q_4$<br>\n",
    "   $\\delta$ $(q_6, 0) = q_4$<br>\n",
    "\n",
    "   $q_2$ dan $q_6$ **dapat** di gabung menjadi satu state\n",
    "2. Buat DFA yang ekivalen dengan NFA berikut\n",
    "\n",
    "   $Q =$ {$q_0, q_1, q_2$}\n",
    "\n",
    "   $\\Sigma =$ {$0,1$}\n",
    "\n",
    "   $S =$ {$q_0$}\n",
    "\n",
    "   $F =$ {$q_1$}\n",
    "\n",
    "| $\\delta$ | 0               | 1              |\n",
    "| ---------- | --------------- | -------------- |\n",
    "| $q_0$    | {$q_1, q_2$}  | {$q_2$}      |\n",
    "| $q_1$    | {$q_1$}       | {$q_2$}      |\n",
    "| $q_2$    | $\\varnothing$ | {$q_0, q_2$} |\n",
    "\n",
    "$$(q_1,q_2)$$\n",
    "$$(q_1,0)(q_2,0) \\ \\ \\ \\ \\ \\ \\ \\  (q_1,1)(q_2,1)$$\n",
    "$$ \\  \\ \\ \\ \\ \\ (q_1) \\cup \\varnothing \\  \\ \\ \\ \\ \\ \\ \\ \\ \\ \\ (q_2) \\cup (q_0,q_2)$$\n",
    "$$(q_1) \\ \\ \\ \\ \\ \\ \\ \\ \\ \\ \\ \\ \\ \\ \\ (q_0,q_2)$$\n",
    "\n",
    "<br>\n",
    "\n",
    "$$(q_0,q_2)$$\n",
    "$$(q_0,0)(q_2,0) \\ \\ \\ \\ \\ \\ \\ \\  (q_0,1)(q_2,1)$$\n",
    "$$ \\  \\ \\ \\ \\ \\ (q_1,q_2) \\cup \\varnothing \\  \\ \\ \\ \\ \\ \\ \\ \\ \\ \\ (q_2) \\cup (q_0,q_2)$$\n",
    "$$(q_1,q_2) \\ \\ \\ \\ \\ \\ \\ \\ \\ \\ \\ \\ \\ \\ \\ (q_0,q_2)$$\n",
    "<br>\n",
    "\n",
    "<img src=\"2.png\"></img>"
   ]
  }
 ],
 "metadata": {
  "language_info": {
   "name": "python"
  }
 },
 "nbformat": 4,
 "nbformat_minor": 2
}
