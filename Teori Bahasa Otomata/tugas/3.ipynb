{
 "cells": [
  {
   "cell_type": "code",
   "execution_count": 2,
   "metadata": {},
   "outputs": [],
   "source": [
    "from prettytable import PrettyTable"
   ]
  },
  {
   "cell_type": "code",
   "execution_count": 3,
   "metadata": {},
   "outputs": [],
   "source": [
    "npm = \"22552011247\""
   ]
  },
  {
   "cell_type": "code",
   "execution_count": 4,
   "metadata": {},
   "outputs": [],
   "source": [
    "state = (int(npm[6:])%7) + 1"
   ]
  },
  {
   "cell_type": "code",
   "execution_count": 5,
   "metadata": {},
   "outputs": [],
   "source": [
    "jumlah_in = 2**state"
   ]
  },
  {
   "cell_type": "code",
   "execution_count": 6,
   "metadata": {},
   "outputs": [
    {
     "data": {
      "text/plain": [
       "64"
      ]
     },
     "execution_count": 6,
     "metadata": {},
     "output_type": "execute_result"
    }
   ],
   "source": [
    "jumlah_in"
   ]
  },
  {
   "cell_type": "code",
   "execution_count": 7,
   "metadata": {},
   "outputs": [],
   "source": [
    "hasil = PrettyTable()\n",
    "hasil.field_names = (\" \", \"mod\", \"bin\")"
   ]
  },
  {
   "cell_type": "code",
   "execution_count": 8,
   "metadata": {},
   "outputs": [],
   "source": [
    "for x in range(jumlah_in):\n",
    "    hasil.add_row([\n",
    "        x, x%state, bin(x)[2:]\n",
    "    ])"
   ]
  },
  {
   "cell_type": "code",
   "execution_count": 9,
   "metadata": {},
   "outputs": [
    {
     "name": "stdout",
     "output_type": "stream",
     "text": [
      "+----+-----+--------+\n",
      "|    | mod |  bin   |\n",
      "+----+-----+--------+\n",
      "| 0  |  0  |   0    |\n",
      "| 1  |  1  |   1    |\n",
      "| 2  |  2  |   10   |\n",
      "| 3  |  3  |   11   |\n",
      "| 4  |  4  |  100   |\n",
      "| 5  |  5  |  101   |\n",
      "| 6  |  0  |  110   |\n",
      "| 7  |  1  |  111   |\n",
      "| 8  |  2  |  1000  |\n",
      "| 9  |  3  |  1001  |\n",
      "| 10 |  4  |  1010  |\n",
      "| 11 |  5  |  1011  |\n",
      "| 12 |  0  |  1100  |\n",
      "| 13 |  1  |  1101  |\n",
      "| 14 |  2  |  1110  |\n",
      "| 15 |  3  |  1111  |\n",
      "| 16 |  4  | 10000  |\n",
      "| 17 |  5  | 10001  |\n",
      "| 18 |  0  | 10010  |\n",
      "| 19 |  1  | 10011  |\n",
      "| 20 |  2  | 10100  |\n",
      "| 21 |  3  | 10101  |\n",
      "| 22 |  4  | 10110  |\n",
      "| 23 |  5  | 10111  |\n",
      "| 24 |  0  | 11000  |\n",
      "| 25 |  1  | 11001  |\n",
      "| 26 |  2  | 11010  |\n",
      "| 27 |  3  | 11011  |\n",
      "| 28 |  4  | 11100  |\n",
      "| 29 |  5  | 11101  |\n",
      "| 30 |  0  | 11110  |\n",
      "| 31 |  1  | 11111  |\n",
      "| 32 |  2  | 100000 |\n",
      "| 33 |  3  | 100001 |\n",
      "| 34 |  4  | 100010 |\n",
      "| 35 |  5  | 100011 |\n",
      "| 36 |  0  | 100100 |\n",
      "| 37 |  1  | 100101 |\n",
      "| 38 |  2  | 100110 |\n",
      "| 39 |  3  | 100111 |\n",
      "| 40 |  4  | 101000 |\n",
      "| 41 |  5  | 101001 |\n",
      "| 42 |  0  | 101010 |\n",
      "| 43 |  1  | 101011 |\n",
      "| 44 |  2  | 101100 |\n",
      "| 45 |  3  | 101101 |\n",
      "| 46 |  4  | 101110 |\n",
      "| 47 |  5  | 101111 |\n",
      "| 48 |  0  | 110000 |\n",
      "| 49 |  1  | 110001 |\n",
      "| 50 |  2  | 110010 |\n",
      "| 51 |  3  | 110011 |\n",
      "| 52 |  4  | 110100 |\n",
      "| 53 |  5  | 110101 |\n",
      "| 54 |  0  | 110110 |\n",
      "| 55 |  1  | 110111 |\n",
      "| 56 |  2  | 111000 |\n",
      "| 57 |  3  | 111001 |\n",
      "| 58 |  4  | 111010 |\n",
      "| 59 |  5  | 111011 |\n",
      "| 60 |  0  | 111100 |\n",
      "| 61 |  1  | 111101 |\n",
      "| 62 |  2  | 111110 |\n",
      "| 63 |  3  | 111111 |\n",
      "+----+-----+--------+\n"
     ]
    }
   ],
   "source": [
    "print(hasil)"
   ]
  },
  {
   "cell_type": "code",
   "execution_count": 12,
   "metadata": {},
   "outputs": [
    {
     "name": "stdout",
     "output_type": "stream",
     "text": [
      "0\n",
      "1\n",
      "10\n",
      "11\n",
      "100\n",
      "101\n",
      "110\n",
      "111\n",
      "1000\n",
      "1001\n",
      "1010\n",
      "1011\n",
      "1100\n",
      "1101\n",
      "1110\n",
      "1111\n",
      "10000\n",
      "10001\n",
      "10010\n",
      "10011\n",
      "10100\n",
      "10101\n",
      "10110\n",
      "10111\n",
      "11000\n",
      "11001\n",
      "11010\n",
      "11011\n",
      "11100\n",
      "11101\n",
      "11110\n",
      "11111\n",
      "100000\n",
      "100001\n",
      "100010\n",
      "100011\n",
      "100100\n",
      "100101\n",
      "100110\n",
      "100111\n",
      "101000\n",
      "101001\n",
      "101010\n",
      "101011\n",
      "101100\n",
      "101101\n",
      "101110\n",
      "101111\n",
      "110000\n",
      "110001\n",
      "110010\n",
      "110011\n",
      "110100\n",
      "110101\n",
      "110110\n",
      "110111\n",
      "111000\n",
      "111001\n",
      "111010\n",
      "111011\n",
      "111100\n",
      "111101\n",
      "111110\n",
      "111111\n"
     ]
    }
   ],
   "source": [
    "for x in range(jumlah_in):\n",
    "    print(bin(x)[2:])"
   ]
  }
 ],
 "metadata": {
  "kernelspec": {
   "display_name": "Vir",
   "language": "python",
   "name": "python3"
  },
  "language_info": {
   "codemirror_mode": {
    "name": "ipython",
    "version": 3
   },
   "file_extension": ".py",
   "mimetype": "text/x-python",
   "name": "python",
   "nbconvert_exporter": "python",
   "pygments_lexer": "ipython3",
   "version": "3.11.0"
  }
 },
 "nbformat": 4,
 "nbformat_minor": 2
}
