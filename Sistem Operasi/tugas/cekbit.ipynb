{
 "cells": [
  {
   "cell_type": "code",
   "execution_count": 1,
   "metadata": {},
   "outputs": [],
   "source": [
    "from prettytable import PrettyTable"
   ]
  },
  {
   "cell_type": "code",
   "execution_count": 2,
   "metadata": {},
   "outputs": [],
   "source": [
    "TEKS = \"SYUKRILLAH\"\n",
    "index = PrettyTable()\n",
    "cek_bit = PrettyTable()\n",
    "list_data = []"
   ]
  },
  {
   "cell_type": "code",
   "execution_count": 3,
   "metadata": {},
   "outputs": [],
   "source": [
    "index.field_names = [\"karakter\",\"index\",\"bin\"]"
   ]
  },
  {
   "cell_type": "code",
   "execution_count": 4,
   "metadata": {},
   "outputs": [],
   "source": [
    "for i,x in enumerate(TEKS):\n",
    "    index.add_row([x,ord(x),bin(ord(x))[2:]])\n",
    "    if x == \" \":\n",
    "        list_data.append(\"0100000\")\n",
    "    else:\n",
    "        list_data.append(bin(ord(x))[2:])"
   ]
  },
  {
   "cell_type": "markdown",
   "metadata": {},
   "source": [
    "# INDEX"
   ]
  },
  {
   "cell_type": "code",
   "execution_count": 5,
   "metadata": {},
   "outputs": [
    {
     "data": {
      "text/html": [
       "<table>\n",
       "    <thead>\n",
       "        <tr>\n",
       "            <th>karakter</th>\n",
       "            <th>index</th>\n",
       "            <th>bin</th>\n",
       "        </tr>\n",
       "    </thead>\n",
       "    <tbody>\n",
       "        <tr>\n",
       "            <td>S</td>\n",
       "            <td>83</td>\n",
       "            <td>1010011</td>\n",
       "        </tr>\n",
       "        <tr>\n",
       "            <td>Y</td>\n",
       "            <td>89</td>\n",
       "            <td>1011001</td>\n",
       "        </tr>\n",
       "        <tr>\n",
       "            <td>U</td>\n",
       "            <td>85</td>\n",
       "            <td>1010101</td>\n",
       "        </tr>\n",
       "        <tr>\n",
       "            <td>K</td>\n",
       "            <td>75</td>\n",
       "            <td>1001011</td>\n",
       "        </tr>\n",
       "        <tr>\n",
       "            <td>R</td>\n",
       "            <td>82</td>\n",
       "            <td>1010010</td>\n",
       "        </tr>\n",
       "        <tr>\n",
       "            <td>I</td>\n",
       "            <td>73</td>\n",
       "            <td>1001001</td>\n",
       "        </tr>\n",
       "        <tr>\n",
       "            <td>L</td>\n",
       "            <td>76</td>\n",
       "            <td>1001100</td>\n",
       "        </tr>\n",
       "        <tr>\n",
       "            <td>L</td>\n",
       "            <td>76</td>\n",
       "            <td>1001100</td>\n",
       "        </tr>\n",
       "        <tr>\n",
       "            <td>A</td>\n",
       "            <td>65</td>\n",
       "            <td>1000001</td>\n",
       "        </tr>\n",
       "        <tr>\n",
       "            <td>H</td>\n",
       "            <td>72</td>\n",
       "            <td>1001000</td>\n",
       "        </tr>\n",
       "    </tbody>\n",
       "</table>"
      ],
      "text/plain": [
       "+----------+-------+---------+\n",
       "| karakter | index |   bin   |\n",
       "+----------+-------+---------+\n",
       "|    S     |   83  | 1010011 |\n",
       "|    Y     |   89  | 1011001 |\n",
       "|    U     |   85  | 1010101 |\n",
       "|    K     |   75  | 1001011 |\n",
       "|    R     |   82  | 1010010 |\n",
       "|    I     |   73  | 1001001 |\n",
       "|    L     |   76  | 1001100 |\n",
       "|    L     |   76  | 1001100 |\n",
       "|    A     |   65  | 1000001 |\n",
       "|    H     |   72  | 1001000 |\n",
       "+----------+-------+---------+"
      ]
     },
     "execution_count": 5,
     "metadata": {},
     "output_type": "execute_result"
    }
   ],
   "source": [
    "index"
   ]
  },
  {
   "cell_type": "code",
   "execution_count": 6,
   "metadata": {},
   "outputs": [],
   "source": [
    "list_data.reverse()\n",
    "list_data_vertical = [list(item) for item in zip(*list_data)]\n",
    "list_data_vertical.reverse()"
   ]
  },
  {
   "cell_type": "code",
   "execution_count": 7,
   "metadata": {},
   "outputs": [],
   "source": [
    "tabel_bin = PrettyTable()\n",
    "tabel_bin.field_names = [(index, karakter) for index, karakter in enumerate(reversed(TEKS))]\n",
    "tabel_bin.add_rows(list_data_vertical)"
   ]
  },
  {
   "cell_type": "markdown",
   "metadata": {},
   "source": [
    "# Tabel Bin"
   ]
  },
  {
   "cell_type": "code",
   "execution_count": 8,
   "metadata": {},
   "outputs": [
    {
     "data": {
      "text/html": [
       "<table>\n",
       "    <thead>\n",
       "        <tr>\n",
       "            <th>(0, &#x27;H&#x27;)</th>\n",
       "            <th>(1, &#x27;A&#x27;)</th>\n",
       "            <th>(2, &#x27;L&#x27;)</th>\n",
       "            <th>(3, &#x27;L&#x27;)</th>\n",
       "            <th>(4, &#x27;I&#x27;)</th>\n",
       "            <th>(5, &#x27;R&#x27;)</th>\n",
       "            <th>(6, &#x27;K&#x27;)</th>\n",
       "            <th>(7, &#x27;U&#x27;)</th>\n",
       "            <th>(8, &#x27;Y&#x27;)</th>\n",
       "            <th>(9, &#x27;S&#x27;)</th>\n",
       "        </tr>\n",
       "    </thead>\n",
       "    <tbody>\n",
       "        <tr>\n",
       "            <td>0</td>\n",
       "            <td>1</td>\n",
       "            <td>0</td>\n",
       "            <td>0</td>\n",
       "            <td>1</td>\n",
       "            <td>0</td>\n",
       "            <td>1</td>\n",
       "            <td>1</td>\n",
       "            <td>1</td>\n",
       "            <td>1</td>\n",
       "        </tr>\n",
       "        <tr>\n",
       "            <td>0</td>\n",
       "            <td>0</td>\n",
       "            <td>0</td>\n",
       "            <td>0</td>\n",
       "            <td>0</td>\n",
       "            <td>1</td>\n",
       "            <td>1</td>\n",
       "            <td>0</td>\n",
       "            <td>0</td>\n",
       "            <td>1</td>\n",
       "        </tr>\n",
       "        <tr>\n",
       "            <td>0</td>\n",
       "            <td>0</td>\n",
       "            <td>1</td>\n",
       "            <td>1</td>\n",
       "            <td>0</td>\n",
       "            <td>0</td>\n",
       "            <td>0</td>\n",
       "            <td>1</td>\n",
       "            <td>0</td>\n",
       "            <td>0</td>\n",
       "        </tr>\n",
       "        <tr>\n",
       "            <td>1</td>\n",
       "            <td>0</td>\n",
       "            <td>1</td>\n",
       "            <td>1</td>\n",
       "            <td>1</td>\n",
       "            <td>0</td>\n",
       "            <td>1</td>\n",
       "            <td>0</td>\n",
       "            <td>1</td>\n",
       "            <td>0</td>\n",
       "        </tr>\n",
       "        <tr>\n",
       "            <td>0</td>\n",
       "            <td>0</td>\n",
       "            <td>0</td>\n",
       "            <td>0</td>\n",
       "            <td>0</td>\n",
       "            <td>1</td>\n",
       "            <td>0</td>\n",
       "            <td>1</td>\n",
       "            <td>1</td>\n",
       "            <td>1</td>\n",
       "        </tr>\n",
       "        <tr>\n",
       "            <td>0</td>\n",
       "            <td>0</td>\n",
       "            <td>0</td>\n",
       "            <td>0</td>\n",
       "            <td>0</td>\n",
       "            <td>0</td>\n",
       "            <td>0</td>\n",
       "            <td>0</td>\n",
       "            <td>0</td>\n",
       "            <td>0</td>\n",
       "        </tr>\n",
       "        <tr>\n",
       "            <td>1</td>\n",
       "            <td>1</td>\n",
       "            <td>1</td>\n",
       "            <td>1</td>\n",
       "            <td>1</td>\n",
       "            <td>1</td>\n",
       "            <td>1</td>\n",
       "            <td>1</td>\n",
       "            <td>1</td>\n",
       "            <td>1</td>\n",
       "        </tr>\n",
       "    </tbody>\n",
       "</table>"
      ],
      "text/plain": [
       "+----------+----------+----------+----------+----------+----------+----------+----------+----------+----------+\n",
       "| (0, 'H') | (1, 'A') | (2, 'L') | (3, 'L') | (4, 'I') | (5, 'R') | (6, 'K') | (7, 'U') | (8, 'Y') | (9, 'S') |\n",
       "+----------+----------+----------+----------+----------+----------+----------+----------+----------+----------+\n",
       "|    0     |    1     |    0     |    0     |    1     |    0     |    1     |    1     |    1     |    1     |\n",
       "|    0     |    0     |    0     |    0     |    0     |    1     |    1     |    0     |    0     |    1     |\n",
       "|    0     |    0     |    1     |    1     |    0     |    0     |    0     |    1     |    0     |    0     |\n",
       "|    1     |    0     |    1     |    1     |    1     |    0     |    1     |    0     |    1     |    0     |\n",
       "|    0     |    0     |    0     |    0     |    0     |    1     |    0     |    1     |    1     |    1     |\n",
       "|    0     |    0     |    0     |    0     |    0     |    0     |    0     |    0     |    0     |    0     |\n",
       "|    1     |    1     |    1     |    1     |    1     |    1     |    1     |    1     |    1     |    1     |\n",
       "+----------+----------+----------+----------+----------+----------+----------+----------+----------+----------+"
      ]
     },
     "execution_count": 8,
     "metadata": {},
     "output_type": "execute_result"
    }
   ],
   "source": [
    "tabel_bin"
   ]
  },
  {
   "cell_type": "markdown",
   "metadata": {},
   "source": [
    "# Tabel Cek Bit"
   ]
  },
  {
   "cell_type": "code",
   "execution_count": null,
   "metadata": {},
   "outputs": [],
   "source": []
  }
 ],
 "metadata": {
  "kernelspec": {
   "display_name": "Vir",
   "language": "python",
   "name": "python3"
  },
  "language_info": {
   "codemirror_mode": {
    "name": "ipython",
    "version": 3
   },
   "file_extension": ".py",
   "mimetype": "text/x-python",
   "name": "python",
   "nbconvert_exporter": "python",
   "pygments_lexer": "ipython3",
   "version": "3.11.2"
  }
 },
 "nbformat": 4,
 "nbformat_minor": 2
}
