{
 "cells": [
  {
   "cell_type": "code",
   "execution_count": 1,
   "metadata": {},
   "outputs": [],
   "source": [
    "import sqlite3"
   ]
  },
  {
   "cell_type": "code",
   "execution_count": 2,
   "metadata": {},
   "outputs": [],
   "source": [
    "con = sqlite3.connect(\"22-28_09_23.sqlite3\")"
   ]
  },
  {
   "cell_type": "code",
   "execution_count": 3,
   "metadata": {},
   "outputs": [],
   "source": [
    "cur = con.cursor()"
   ]
  },
  {
   "cell_type": "code",
   "execution_count": 21,
   "metadata": {},
   "outputs": [
    {
     "name": "stdout",
     "output_type": "stream",
     "text": [
      "Agung Nur Prajoko\n",
      "Ahmad Syarifudin\n",
      "Andi Sugara Putra\n",
      "Annissa Srikandi\n",
      "Anwar Mahardika Ibrahim Garnizar\n",
      "Aqil Muhammad Fachrezi\n",
      "Areni Halawa\n",
      "Bambang Budi Setia\n",
      "Edi Priatna\n",
      "Fadhlan Hafidz Shihran\n",
      "Fadilah Nurul Huda\n",
      "Gilang M Rizki\n",
      "Gilang Nur Rizki\n",
      "Haris Rachman\n",
      "Ilham Zaky Asadullah\n",
      "Imam Chaeril Mahaputra Restu Kurnia\n",
      "Irfan Fauzi\n",
      "Irfanka Hanif Fauzi\n",
      "Mahaesa Samy\n",
      "Miftah Agustian N\n",
      "Moch Ikhsan Futra Muharam\n",
      "Muhamad Alfi Ardiana\n",
      "Muhammad Rafi Dhiyaul Haq\n",
      "Muhammad Rafi Raihan\n",
      "Naufal Maulana Fiqri\n",
      "Rahmat Nur Effendi\n",
      "Ricky\n",
      "Ripan Gunawan\n",
      "Rizal Zaelani\n",
      "Sella Ashari\n",
      "Shaiful Anam\n",
      "Suci Yuniarti Aisiyah\n",
      "Syukrillah\n",
      "William Pradana Putra\n",
      "Yogi Apandi\n",
      "Yogi Bastian\n",
      "TAUFIQ RAHMAN AL HADID\n"
     ]
    }
   ],
   "source": [
    "for x in cur.execute(\"SELECT NIM, Nama FROM TIF\").fetchall():\n",
    "    if(int(str(x[0])[6:])%7 == 5):\n",
    "        print(x[1])"
   ]
  },
  {
   "cell_type": "code",
   "execution_count": 17,
   "metadata": {},
   "outputs": [
    {
     "data": {
      "text/plain": [
       "5"
      ]
     },
     "execution_count": 17,
     "metadata": {},
     "output_type": "execute_result"
    }
   ],
   "source": [
    "int(str(22552011247)[6:])%7"
   ]
  },
  {
   "cell_type": "code",
   "execution_count": 23,
   "metadata": {},
   "outputs": [
    {
     "data": {
      "text/plain": [
       "6"
      ]
     },
     "execution_count": 23,
     "metadata": {},
     "output_type": "execute_result"
    }
   ],
   "source": [
    "11248%7"
   ]
  },
  {
   "cell_type": "code",
   "execution_count": null,
   "metadata": {},
   "outputs": [],
   "source": []
  }
 ],
 "metadata": {
  "kernelspec": {
   "display_name": "Env-local",
   "language": "python",
   "name": "python3"
  },
  "language_info": {
   "codemirror_mode": {
    "name": "ipython",
    "version": 3
   },
   "file_extension": ".py",
   "mimetype": "text/x-python",
   "name": "python",
   "nbconvert_exporter": "python",
   "pygments_lexer": "ipython3",
   "version": "3.11.0rc1"
  }
 },
 "nbformat": 4,
 "nbformat_minor": 2
}
